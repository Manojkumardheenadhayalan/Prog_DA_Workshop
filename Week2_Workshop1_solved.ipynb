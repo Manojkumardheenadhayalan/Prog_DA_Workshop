{
  "nbformat": 4,
  "nbformat_minor": 0,
  "metadata": {
    "colab": {
      "provenance": []
    },
    "kernelspec": {
      "name": "python3",
      "display_name": "Python 3"
    },
    "language_info": {
      "name": "python"
    }
  },
  "cells": [
    {
      "cell_type": "markdown",
      "source": [
        "# **Week2: Workshop1**\n",
        "\n",
        "### **Objectives:**\n",
        "  * Data Types (manipulation and operations)\n",
        "  * Array operations\n",
        "  * Arithmetic operations\n",
        "\n"
      ],
      "metadata": {
        "id": "7stZj75_PTvY"
      }
    },
    {
      "cell_type": "markdown",
      "metadata": {
        "id": "U5xoneOIeUkp"
      },
      "source": [
        "Python is dynamically-typed: variable names can point to objects of any type.\n",
        "\n",
        "This happens as variables are in fact pointers to objects. While objects have a specific type, variables can point to objects of any type. Below, we create a variable <code>x</code> and assign it (i.e., make it point) to an integer object with value 10. After that, we re-assign variable <code>x</code> so that it points to a string object."
      ]
    },
    {
      "cell_type": "code",
      "execution_count": 81,
      "metadata": {
        "id": "NO6-rbSleUkq"
      },
      "outputs": [],
      "source": [
        "x = 10\n",
        "x = 'hello'\n",
        "x = \"hello to show no differences between quote and double quote\""
      ]
    },
    {
      "cell_type": "markdown",
      "metadata": {
        "id": "pMNSOd_MeUks"
      },
      "source": [
        "**Q1 : Can you concatenate the strings <code>a</code>, <code>b</code> and <code>c</code>?**"
      ]
    },
    {
      "cell_type": "code",
      "execution_count": 82,
      "metadata": {
        "id": "Ekoly-coeUkr"
      },
      "outputs": [],
      "source": [
        "a = \"Name name is\"\n",
        "b = \" R2D2\"\n",
        "c = \".\""
      ]
    },
    {
      "cell_type": "code",
      "execution_count": 83,
      "metadata": {
        "id": "mGAydBhSeUks",
        "colab": {
          "base_uri": "https://localhost:8080/",
          "height": 36
        },
        "outputId": "4752fee3-9ca5-490f-b652-bd3c445e6e54"
      },
      "outputs": [
        {
          "output_type": "execute_result",
          "data": {
            "text/plain": [
              "'Name name is R2D2.'"
            ],
            "application/vnd.google.colaboratory.intrinsic+json": {
              "type": "string"
            }
          },
          "metadata": {},
          "execution_count": 83
        }
      ],
      "source": [
        "#Solution to Q1\n",
        "a+b+c"
      ]
    },
    {
      "cell_type": "markdown",
      "metadata": {
        "id": "I8SbJx54eUkq"
      },
      "source": [
        "**Q2: Can you generete a string equal to x but with all characters in upper case?**\n",
        "\n",
        "*Remember how to use Tab to auto-complete and check methods available to strings with x.*"
      ]
    },
    {
      "cell_type": "code",
      "execution_count": 84,
      "metadata": {
        "id": "pSRDXSSgeUkq",
        "colab": {
          "base_uri": "https://localhost:8080/",
          "height": 36
        },
        "outputId": "a8255072-031f-4346-ab07-8ac2b70fa4e4"
      },
      "outputs": [
        {
          "output_type": "execute_result",
          "data": {
            "text/plain": [
              "'HELLO TO SHOW NO DIFFERENCES BETWEEN QUOTE AND DOUBLE QUOTE'"
            ],
            "application/vnd.google.colaboratory.intrinsic+json": {
              "type": "string"
            }
          },
          "metadata": {},
          "execution_count": 84
        }
      ],
      "source": [
        "# Solution to Q2\n",
        "x.upper()"
      ]
    },
    {
      "cell_type": "markdown",
      "metadata": {
        "id": "AXt4TRS2eUkr"
      },
      "source": [
        "**Q3: Can you split string x given words separated by spaces?**\n",
        "\n",
        "1.   List item\n",
        "2.   List item\n",
        "\n"
      ]
    },
    {
      "cell_type": "code",
      "execution_count": 102,
      "metadata": {
        "id": "35_tu6cDeUkr",
        "colab": {
          "base_uri": "https://localhost:8080/"
        },
        "outputId": "9ce70d0c-03d0-4940-962c-ac30b63500ad"
      },
      "outputs": [
        {
          "output_type": "execute_result",
          "data": {
            "text/plain": [
              "['hello',\n",
              " 'to',\n",
              " 'show',\n",
              " 'no',\n",
              " 'differences',\n",
              " 'between',\n",
              " 'quote',\n",
              " 'and',\n",
              " 'double',\n",
              " 'quote']"
            ]
          },
          "metadata": {},
          "execution_count": 102
        }
      ],
      "source": [
        "# Solution to Q3\n",
        "words = x.split()  # Splits the string by spaces\n",
        "words\n"
      ]
    },
    {
      "cell_type": "markdown",
      "metadata": {
        "id": "HtBT0wHeeUks"
      },
      "source": [
        "**Q4: Can you repeat string <code>b</code> 10 times using a maximum of 3 characters?**"
      ]
    },
    {
      "cell_type": "code",
      "execution_count": 120,
      "metadata": {
        "id": "hv5hFKLweUks",
        "colab": {
          "base_uri": "https://localhost:8080/"
        },
        "outputId": "682a5dce-68f9-4de1-f3d1-05f1890895b6"
      },
      "outputs": [
        {
          "output_type": "stream",
          "name": "stdout",
          "text": [
            "\n",
            "CMP\n",
            "CMP\n",
            "CMP\n",
            "CMP\n",
            "CMP\n",
            "CMP\n",
            "CMP\n",
            "CMP\n",
            "CMP\n",
            "CMP\n"
          ]
        }
      ],
      "source": [
        "# Solution to Q5\n",
        "b = 'CMP7005'\n",
        "a=(b)[0:3]\n",
        "print((\"\\n\" + a) * 10)"
      ]
    },
    {
      "cell_type": "markdown",
      "metadata": {
        "id": "9YWB774EeUki"
      },
      "source": [
        "<h1><center> Part I: Lists </center></h1>"
      ]
    },
    {
      "cell_type": "code",
      "execution_count": 30,
      "metadata": {
        "id": "wS2T0i3NeUkx",
        "colab": {
          "base_uri": "https://localhost:8080/",
          "height": 36
        },
        "outputId": "9d1d5bab-ccc2-42bf-963d-69a16588b459"
      },
      "outputs": [
        {
          "output_type": "execute_result",
          "data": {
            "text/plain": [
              "'kiwi'"
            ],
            "application/vnd.google.colaboratory.intrinsic+json": {
              "type": "string"
            }
          },
          "metadata": {},
          "execution_count": 30
        }
      ],
      "source": [
        "fruits = ['orange', 'apple', 'pear', 'banana', 'kiwi', 'apple', 'banana']\n",
        "fruits[4]"
      ]
    },
    {
      "cell_type": "code",
      "execution_count": 31,
      "metadata": {
        "id": "YVdHS1JneUky",
        "colab": {
          "base_uri": "https://localhost:8080/"
        },
        "outputId": "52668a0c-893d-4cfb-bff3-0b0aea1a85fd"
      },
      "outputs": [
        {
          "output_type": "execute_result",
          "data": {
            "text/plain": [
              "['pear', 'banana', 'kiwi']"
            ]
          },
          "metadata": {},
          "execution_count": 31
        }
      ],
      "source": [
        "fruits[2:5]"
      ]
    },
    {
      "cell_type": "code",
      "execution_count": 32,
      "metadata": {
        "id": "PZvpRbuTeUky",
        "colab": {
          "base_uri": "https://localhost:8080/"
        },
        "outputId": "d72798c8-e02c-4a12-a301-5083639697ee"
      },
      "outputs": [
        {
          "output_type": "execute_result",
          "data": {
            "text/plain": [
              "2"
            ]
          },
          "metadata": {},
          "execution_count": 32
        }
      ],
      "source": [
        "fruits.count('apple')"
      ]
    },
    {
      "cell_type": "code",
      "execution_count": 33,
      "metadata": {
        "id": "2iVKkFn9eUky",
        "colab": {
          "base_uri": "https://localhost:8080/"
        },
        "outputId": "c8576fa9-0106-4d71-82e4-f061c0566630"
      },
      "outputs": [
        {
          "output_type": "execute_result",
          "data": {
            "text/plain": [
              "3"
            ]
          },
          "metadata": {},
          "execution_count": 33
        }
      ],
      "source": [
        "fruits.index('banana')"
      ]
    },
    {
      "cell_type": "code",
      "execution_count": 34,
      "metadata": {
        "id": "lwOU5fUmeUkz",
        "colab": {
          "base_uri": "https://localhost:8080/"
        },
        "outputId": "3e73ff9b-7dbb-47ef-84b1-760e6b082e76"
      },
      "outputs": [
        {
          "output_type": "execute_result",
          "data": {
            "text/plain": [
              "True"
            ]
          },
          "metadata": {},
          "execution_count": 34
        }
      ],
      "source": [
        "'apple' in fruits"
      ]
    },
    {
      "cell_type": "code",
      "execution_count": 35,
      "metadata": {
        "id": "_hBwXr0GeUkz",
        "colab": {
          "base_uri": "https://localhost:8080/"
        },
        "outputId": "0564ff74-65f1-47c4-f2e4-572f7e8fde22"
      },
      "outputs": [
        {
          "output_type": "execute_result",
          "data": {
            "text/plain": [
              "['apple', 'apple', 'banana', 'banana', 'kiwi', 'orange', 'pear']"
            ]
          },
          "metadata": {},
          "execution_count": 35
        }
      ],
      "source": [
        "fruits.sort()\n",
        "fruits"
      ]
    },
    {
      "cell_type": "code",
      "execution_count": 72,
      "metadata": {
        "id": "bM9TLmi5eUk0",
        "colab": {
          "base_uri": "https://localhost:8080/"
        },
        "outputId": "84e91824-a3eb-4738-d1f2-535af128a5c6"
      },
      "outputs": [
        {
          "output_type": "execute_result",
          "data": {
            "text/plain": [
              "10"
            ]
          },
          "metadata": {},
          "execution_count": 72
        }
      ],
      "source": [
        "len(fruits)"
      ]
    },
    {
      "cell_type": "code",
      "execution_count": 73,
      "metadata": {
        "id": "g4Wti-8leUk0",
        "colab": {
          "base_uri": "https://localhost:8080/"
        },
        "outputId": "070e56b7-d50b-4547-d4e1-d85a0bf689b5"
      },
      "outputs": [
        {
          "output_type": "execute_result",
          "data": {
            "text/plain": [
              "['apple',\n",
              " 'apple',\n",
              " 'banana',\n",
              " 'strawberry',\n",
              " 'strawberry',\n",
              " 'banana',\n",
              " 'kiwi',\n",
              " 'orange',\n",
              " 'pear',\n",
              " 100,\n",
              " 100]"
            ]
          },
          "metadata": {},
          "execution_count": 73
        }
      ],
      "source": [
        "fruits += [100]\n",
        "fruits"
      ]
    },
    {
      "cell_type": "markdown",
      "metadata": {
        "id": "KW3e6-ApeUk0"
      },
      "source": [
        "**Q1: Can you work out how to insert a new object ('strawberry') in the below defined position in the list?**"
      ]
    },
    {
      "cell_type": "code",
      "execution_count": 71,
      "metadata": {
        "id": "ZHJQXUGpeUk0",
        "outputId": "5a462077-a779-435c-a4ab-89a91a8c8942",
        "colab": {
          "base_uri": "https://localhost:8080/"
        }
      },
      "outputs": [
        {
          "output_type": "execute_result",
          "data": {
            "text/plain": [
              "['apple',\n",
              " 'apple',\n",
              " 'banana',\n",
              " 'strawberry',\n",
              " 'strawberry',\n",
              " 'banana',\n",
              " 'kiwi',\n",
              " 'orange',\n",
              " 'pear',\n",
              " 100]"
            ]
          },
          "metadata": {},
          "execution_count": 71
        }
      ],
      "source": [
        "# Solution to Q1\n",
        "fruits.insert(3, 'strawberry')\n",
        "fruits"
      ]
    },
    {
      "cell_type": "markdown",
      "metadata": {
        "id": "bJqv57XeeUk2"
      },
      "source": [
        "**Q2: Indexing: Can you write code to select elements of x from the 3rd to the second-last element (inclusive)?**"
      ]
    },
    {
      "cell_type": "code",
      "execution_count": 39,
      "metadata": {
        "id": "IK8rEplWeUk2"
      },
      "outputs": [],
      "source": [
        "# Solution to Q2:\n",
        "x = [1, 2, 3, 4, 5, 6, 7, 8] # say x is the given list"
      ]
    },
    {
      "cell_type": "code",
      "source": [
        "x[2:-1]"
      ],
      "metadata": {
        "id": "ofOgYl3h7xyr",
        "colab": {
          "base_uri": "https://localhost:8080/"
        },
        "outputId": "4ae284bd-e1a3-4629-ab2f-0c851f3c62dc"
      },
      "execution_count": 78,
      "outputs": [
        {
          "output_type": "execute_result",
          "data": {
            "text/plain": [
              "[3, 4, 5, 6, 7]"
            ]
          },
          "metadata": {},
          "execution_count": 78
        }
      ]
    },
    {
      "cell_type": "markdown",
      "metadata": {
        "id": "Q9U20YrXozcf"
      },
      "source": [
        "**Q3(A):Can you write code to select elements of x in even positions (0, 2, 4, 6 ...) using indexing?**"
      ]
    },
    {
      "cell_type": "code",
      "execution_count": 122,
      "metadata": {
        "id": "ryfr8nnLeUk3"
      },
      "outputs": [],
      "source": [
        "# Solution to Q3:\n",
        "x = [1, 2, 3, 4, 5, 6, 7, 8] # say x is the given list"
      ]
    },
    {
      "cell_type": "code",
      "source": [
        "x[::2]"
      ],
      "metadata": {
        "id": "EmFz9f7970h7",
        "colab": {
          "base_uri": "https://localhost:8080/"
        },
        "outputId": "f3c31e83-84d3-49a5-e48b-a556faf901e6"
      },
      "execution_count": 133,
      "outputs": [
        {
          "output_type": "execute_result",
          "data": {
            "text/plain": [
              "[1, 3, 5, 7]"
            ]
          },
          "metadata": {},
          "execution_count": 133
        }
      ]
    },
    {
      "cell_type": "markdown",
      "source": [
        "**Q3(B):Can you write code to find even numbers in the list using indexing?**"
      ],
      "metadata": {
        "id": "dV-7w_J5oe03"
      }
    },
    {
      "cell_type": "code",
      "source": [
        "x[1:9:2] # finding even numbers in the list"
      ],
      "metadata": {
        "colab": {
          "base_uri": "https://localhost:8080/"
        },
        "id": "0NGgYZn796Np",
        "outputId": "c12bb7e6-b4ad-44e2-878d-e73235822c0b"
      },
      "execution_count": 134,
      "outputs": [
        {
          "output_type": "execute_result",
          "data": {
            "text/plain": [
              "[2, 4, 6, 8]"
            ]
          },
          "metadata": {},
          "execution_count": 134
        }
      ]
    },
    {
      "cell_type": "markdown",
      "metadata": {
        "id": "oP-UGxPdpDmg"
      },
      "source": [
        "**Q4 (A):Can you write code to select elements of x in odd positions (1, 3, 5...) in reverse order using indexing?**"
      ]
    },
    {
      "cell_type": "code",
      "execution_count": 42,
      "metadata": {
        "id": "BmiHg-vMeUk3"
      },
      "outputs": [],
      "source": [
        "# Solution to Q4:\n",
        "x = [1, 2, 3, 4, 5, 6, 7, 8] # say x is the given list\n"
      ]
    },
    {
      "cell_type": "code",
      "source": [
        "x[::-2]"
      ],
      "metadata": {
        "id": "HDdDFuDs7_rZ",
        "colab": {
          "base_uri": "https://localhost:8080/"
        },
        "outputId": "548b5937-caff-4fcf-f0ff-8b1e36058421"
      },
      "execution_count": 135,
      "outputs": [
        {
          "output_type": "execute_result",
          "data": {
            "text/plain": [
              "[8, 6, 4, 2]"
            ]
          },
          "metadata": {},
          "execution_count": 135
        }
      ]
    },
    {
      "cell_type": "markdown",
      "source": [
        "**Q4(B):Can you write code to find odd numbers in the list using indexing?**"
      ],
      "metadata": {
        "id": "QwUY21m0Dt-N"
      }
    },
    {
      "cell_type": "code",
      "source": [
        "x[::2]"
      ],
      "metadata": {
        "id": "Ly3T-udkpMBA",
        "colab": {
          "base_uri": "https://localhost:8080/"
        },
        "outputId": "c1355d0d-5cc1-405f-a935-03e01795ffa6"
      },
      "execution_count": 137,
      "outputs": [
        {
          "output_type": "execute_result",
          "data": {
            "text/plain": [
              "[1, 3, 5, 7]"
            ]
          },
          "metadata": {},
          "execution_count": 137
        }
      ]
    },
    {
      "cell_type": "markdown",
      "metadata": {
        "id": "pgI59LIieUk2"
      },
      "source": [
        "**Q5: Write code that prints 'a not contained in x' if <code>a</code> is not contained in <code>x</code>.**"
      ]
    },
    {
      "cell_type": "code",
      "execution_count": 139,
      "metadata": {
        "id": "bZAZCM2keUk1"
      },
      "outputs": [],
      "source": [
        "#Given the following list\n",
        "x = [1, 2, 3, 4, 5, 6, 7, 8]\n",
        "a = 6.2"
      ]
    },
    {
      "cell_type": "code",
      "execution_count": 140,
      "metadata": {
        "id": "VYfllHWzeUk2",
        "outputId": "089c2b76-d370-4594-b4b9-9c559c9f1dcc",
        "colab": {
          "base_uri": "https://localhost:8080/"
        }
      },
      "outputs": [
        {
          "output_type": "stream",
          "name": "stdout",
          "text": [
            "6.2 not contained in x\n"
          ]
        }
      ],
      "source": [
        "# Solution to Q4:\n",
        "if a not in x:\n",
        "    print(f'{a} not contained in x')"
      ]
    },
    {
      "cell_type": "markdown",
      "metadata": {
        "id": "xq3gMli_eUk3"
      },
      "source": [
        "<h2><center> Tuple </center></h2>\n",
        "\n",
        "Ordered and **immutable** collection. Values within (square brackets) and comma-separated."
      ]
    },
    {
      "cell_type": "code",
      "execution_count": 141,
      "metadata": {
        "id": "mpGcF0e0Nlv8"
      },
      "outputs": [],
      "source": [
        "t = (1,2,3)\n",
        "#t[2] = 5"
      ]
    },
    {
      "cell_type": "markdown",
      "metadata": {
        "id": "sDfOm6Z_Nlv8"
      },
      "source": [
        "**Q1: The previous cell should generate a TypeError. Can you explain why? Can you create a list with the same values as <code>t</code> and assign 5 to position 2 of the newly created list?**"
      ]
    },
    {
      "cell_type": "code",
      "execution_count": 147,
      "metadata": {
        "id": "Wp45pkhqNlv8",
        "colab": {
          "base_uri": "https://localhost:8080/"
        },
        "outputId": "a978daeb-70bf-4ce7-a00e-cc0e5ba0d404"
      },
      "outputs": [
        {
          "output_type": "execute_result",
          "data": {
            "text/plain": [
              "[1, 2, 5]"
            ]
          },
          "metadata": {},
          "execution_count": 147
        }
      ],
      "source": [
        "#Soluton to Q8:\n",
        "\n",
        "# Error as t is a Tuple and Tuples are immutable\n",
        "# A tuple offers a guarantee that a particular collection of objects will remain fixed\n",
        "\n",
        "l = list(t)\n",
        "l[2] = 5\n",
        "l"
      ]
    },
    {
      "cell_type": "markdown",
      "metadata": {
        "id": "WITPYRddeUk4"
      },
      "source": [
        "<h2><center> Dictionaries </center></h2>\n",
        "\n",
        "Dictionaries play a key role in Python and (as we will see in future labs) in Pandas.\n",
        "\n",
        "Dictionaries are **mappings between key and values**."
      ]
    },
    {
      "cell_type": "code",
      "execution_count": 148,
      "metadata": {
        "id": "8jhwOlINeUk4",
        "colab": {
          "base_uri": "https://localhost:8080/"
        },
        "outputId": "ddbe8171-1295-4723-940a-e934b2a5dbcb"
      },
      "outputs": [
        {
          "output_type": "execute_result",
          "data": {
            "text/plain": [
              "{'jack': 4098, 'mary': 4139, 'guido': 4127}"
            ]
          },
          "metadata": {},
          "execution_count": 148
        }
      ],
      "source": [
        "tel = {'jack': 4098, 'mary': 4139}\n",
        "tel['guido'] = 4127\n",
        "tel"
      ]
    },
    {
      "cell_type": "code",
      "execution_count": 149,
      "metadata": {
        "id": "QPNZgHmeeUk4",
        "colab": {
          "base_uri": "https://localhost:8080/"
        },
        "outputId": "7c611df3-e319-4239-9b34-d2bf5357defe"
      },
      "outputs": [
        {
          "output_type": "execute_result",
          "data": {
            "text/plain": [
              "4098"
            ]
          },
          "metadata": {},
          "execution_count": 149
        }
      ],
      "source": [
        "tel['jack']"
      ]
    },
    {
      "cell_type": "code",
      "execution_count": 150,
      "metadata": {
        "id": "ZxklxsNueUk4",
        "colab": {
          "base_uri": "https://localhost:8080/"
        },
        "outputId": "58dc6fc8-5776-4535-a6b3-aee2da1d6341"
      },
      "outputs": [
        {
          "output_type": "execute_result",
          "data": {
            "text/plain": [
              "dict_keys(['jack', 'mary', 'guido'])"
            ]
          },
          "metadata": {},
          "execution_count": 150
        }
      ],
      "source": [
        "tel.keys()"
      ]
    },
    {
      "cell_type": "code",
      "execution_count": 151,
      "metadata": {
        "id": "vERlC3T7eUk4",
        "colab": {
          "base_uri": "https://localhost:8080/"
        },
        "outputId": "c66cc10a-6d33-4667-887d-0b85b9f05b18"
      },
      "outputs": [
        {
          "output_type": "execute_result",
          "data": {
            "text/plain": [
              "True"
            ]
          },
          "metadata": {},
          "execution_count": 151
        }
      ],
      "source": [
        "'guido' in tel\n",
        "True"
      ]
    },
    {
      "cell_type": "markdown",
      "metadata": {
        "id": "a1sfJhMZeUk4"
      },
      "source": [
        "<h2><center>Sets</center></h2>\n",
        "\n",
        "**Unordered** collections of **unique** items. Values within {curly brackets} and comma-separated. You can apply well-known set functions: union, intersection..."
      ]
    },
    {
      "cell_type": "code",
      "execution_count": 152,
      "metadata": {
        "id": "E3vxt7sVeUk4",
        "colab": {
          "base_uri": "https://localhost:8080/"
        },
        "outputId": "ecb1f459-82b4-40f6-989e-48c66fb41bd2"
      },
      "outputs": [
        {
          "output_type": "execute_result",
          "data": {
            "text/plain": [
              "{1, 3, 5, 7, 9}"
            ]
          },
          "metadata": {},
          "execution_count": 152
        }
      ],
      "source": [
        "primes = {2, 3, 5, 7}\n",
        "odds = set(range(1,10,2))\n",
        "odds"
      ]
    },
    {
      "cell_type": "code",
      "execution_count": 153,
      "metadata": {
        "id": "axtMbgHUeUk5",
        "colab": {
          "base_uri": "https://localhost:8080/"
        },
        "outputId": "2ed92d25-ea43-4066-c1b7-61f60040adb1"
      },
      "outputs": [
        {
          "output_type": "execute_result",
          "data": {
            "text/plain": [
              "{1, 2, 3, 5, 7, 9}"
            ]
          },
          "metadata": {},
          "execution_count": 153
        }
      ],
      "source": [
        "primes | odds"
      ]
    },
    {
      "cell_type": "code",
      "execution_count": 154,
      "metadata": {
        "id": "fB6h0Ov8eUk5",
        "colab": {
          "base_uri": "https://localhost:8080/"
        },
        "outputId": "5cd9ea6a-2e4f-49bc-ccf8-7ce02b58d5aa"
      },
      "outputs": [
        {
          "output_type": "execute_result",
          "data": {
            "text/plain": [
              "{3, 5, 7}"
            ]
          },
          "metadata": {},
          "execution_count": 154
        }
      ],
      "source": [
        "primes & odds"
      ]
    },
    {
      "cell_type": "code",
      "execution_count": 155,
      "metadata": {
        "id": "HeQUv4YJeUk5",
        "colab": {
          "base_uri": "https://localhost:8080/"
        },
        "outputId": "89cbf2cf-79e1-4d68-d834-7d59e2ece34a"
      },
      "outputs": [
        {
          "output_type": "execute_result",
          "data": {
            "text/plain": [
              "{1, 9}"
            ]
          },
          "metadata": {},
          "execution_count": 155
        }
      ],
      "source": [
        "odds - primes"
      ]
    },
    {
      "cell_type": "markdown",
      "metadata": {
        "id": "gQS7lbP9eUk5"
      },
      "source": [
        "**Q1: Can you write 1-line of code to count the number of integers from 0 to 10 that are prime and even?**"
      ]
    },
    {
      "cell_type": "code",
      "execution_count": 174,
      "metadata": {
        "id": "ngmox-6IeUk5",
        "colab": {
          "base_uri": "https://localhost:8080/"
        },
        "outputId": "ad8a1180-6b59-42b9-b2b6-8cd2837a58b2"
      },
      "outputs": [
        {
          "output_type": "stream",
          "name": "stdout",
          "text": [
            "{2}\n"
          ]
        },
        {
          "output_type": "execute_result",
          "data": {
            "text/plain": [
              "1"
            ]
          },
          "metadata": {},
          "execution_count": 174
        }
      ],
      "source": [
        "# Solution Q1:\n",
        "primes = {2, 3, 5, 7}\n",
        "even = set(range(0,10,2))\n",
        "num=primes & even\n",
        "print(num)\n",
        "len(num)"
      ]
    },
    {
      "cell_type": "markdown",
      "metadata": {
        "id": "BoMUo7KEeUk8"
      },
      "source": [
        "# **Array**: Refer to this (https://www.programiz.com/python-programming/numpy/array-creation) for further reading"
      ]
    },
    {
      "cell_type": "code",
      "execution_count": 184,
      "metadata": {
        "id": "WXgmUzVyeUk8",
        "colab": {
          "base_uri": "https://localhost:8080/"
        },
        "outputId": "eac441de-f622-4293-fc93-67eec4a1f8a4"
      },
      "outputs": [
        {
          "output_type": "execute_result",
          "data": {
            "text/plain": [
              "array([10, 11, 12, 13, 14, 15, 16, 17, 18])"
            ]
          },
          "metadata": {},
          "execution_count": 184
        }
      ],
      "source": [
        "# Create a NumPy array from a Python list:\n",
        "import numpy as np\n",
        "n= [10,11,12,13,14,15,16,17,18]\n",
        "n=np.array(n)\n",
        "n"
      ]
    },
    {
      "cell_type": "code",
      "execution_count": 185,
      "metadata": {
        "id": "HqIX_flOeUk8",
        "outputId": "c0649d09-3c06-4e92-8a16-f2e8349d3e3d",
        "colab": {
          "base_uri": "https://localhost:8080/"
        }
      },
      "outputs": [
        {
          "output_type": "execute_result",
          "data": {
            "text/plain": [
              "array([10, 11, 12, 13, 14, 15, 16, 17, 18, 19])"
            ]
          },
          "metadata": {},
          "execution_count": 185
        }
      ],
      "source": [
        "# Create a NumPy array with the NumPy method np.arange between 10-19\n",
        "\n",
        "m=np.arange(10,20)\n",
        "m"
      ]
    },
    {
      "cell_type": "code",
      "execution_count": 186,
      "metadata": {
        "id": "-pcO2qqpeUk9",
        "outputId": "5ed6d9b6-3fd9-4809-8606-83b83b327a3d",
        "colab": {
          "base_uri": "https://localhost:8080/"
        }
      },
      "outputs": [
        {
          "output_type": "stream",
          "name": "stdout",
          "text": [
            "(9,) (10,)\n"
          ]
        }
      ],
      "source": [
        "print(n.shape,m.shape)"
      ]
    },
    {
      "cell_type": "markdown",
      "metadata": {
        "id": "fjrKYUZDeUk9"
      },
      "source": [
        "**Q1: Can you make a numpy array of only even numbers between 10 and 20 (inclusive), without using a loop?**"
      ]
    },
    {
      "cell_type": "code",
      "execution_count": 191,
      "metadata": {
        "id": "wYNLRvCzeUk9",
        "outputId": "ee40e7bc-4d8c-4cb9-decf-25330ea2d85e",
        "colab": {
          "base_uri": "https://localhost:8080/"
        }
      },
      "outputs": [
        {
          "output_type": "execute_result",
          "data": {
            "text/plain": [
              "array([10, 12, 14, 16, 18, 20])"
            ]
          },
          "metadata": {},
          "execution_count": 191
        }
      ],
      "source": [
        "# Solution to Q1\n",
        "x=np.arange(10, 21, 2)\n",
        "x\n"
      ]
    },
    {
      "cell_type": "markdown",
      "metadata": {
        "id": "Jy2bjB4ZeUk9"
      },
      "source": [
        "<h2><center> Indexing and slicing </center></h2>"
      ]
    },
    {
      "cell_type": "code",
      "execution_count": 62,
      "metadata": {
        "id": "2Kk4AJwFeUk9",
        "outputId": "221b025c-4777-4b25-daf5-a4e2db6ba22d",
        "colab": {
          "base_uri": "https://localhost:8080/"
        }
      },
      "outputs": [
        {
          "output_type": "execute_result",
          "data": {
            "text/plain": [
              "array([20, 21, 22, 23, 24, 25, 26, 27, 28, 29])"
            ]
          },
          "metadata": {},
          "execution_count": 62
        }
      ],
      "source": [
        "yet_another_numpy_array = np.array([20,21,22,23,24,25,26,27,28,29])\n",
        "yet_another_numpy_array"
      ]
    },
    {
      "cell_type": "code",
      "execution_count": 63,
      "metadata": {
        "id": "1ENhq1xzeUk9",
        "colab": {
          "base_uri": "https://localhost:8080/"
        },
        "outputId": "24ddb8da-ccbe-4a6d-df18-4bc3d1f3a29b"
      },
      "outputs": [
        {
          "output_type": "execute_result",
          "data": {
            "text/plain": [
              "25"
            ]
          },
          "metadata": {},
          "execution_count": 63
        }
      ],
      "source": [
        "yet_another_numpy_array[5]"
      ]
    },
    {
      "cell_type": "code",
      "execution_count": 192,
      "metadata": {
        "id": "P302XPdXeUk9",
        "colab": {
          "base_uri": "https://localhost:8080/"
        },
        "outputId": "8975f2de-8cd9-4411-cb24-e12d5c898385"
      },
      "outputs": [
        {
          "output_type": "execute_result",
          "data": {
            "text/plain": [
              "array([23, 24, 25, 26, 27, 28, 29])"
            ]
          },
          "metadata": {},
          "execution_count": 192
        }
      ],
      "source": [
        "yet_another_numpy_array[3:]"
      ]
    },
    {
      "cell_type": "code",
      "execution_count": 193,
      "metadata": {
        "id": "B7L30E0heUk9",
        "colab": {
          "base_uri": "https://localhost:8080/"
        },
        "outputId": "f06bcc0e-f674-4948-fa58-ce93d55de8f9"
      },
      "outputs": [
        {
          "output_type": "execute_result",
          "data": {
            "text/plain": [
              "array([20, 21, 22, 23, 24, 25, 26, 27])"
            ]
          },
          "metadata": {},
          "execution_count": 193
        }
      ],
      "source": [
        "yet_another_numpy_array[:-2]"
      ]
    },
    {
      "cell_type": "code",
      "execution_count": 194,
      "metadata": {
        "id": "SRVWyN4HeUk9",
        "colab": {
          "base_uri": "https://localhost:8080/"
        },
        "outputId": "269c483c-894a-4614-a97b-d5f7bbd3ddc3"
      },
      "outputs": [
        {
          "output_type": "execute_result",
          "data": {
            "text/plain": [
              "array([20, 21, 22, 23])"
            ]
          },
          "metadata": {},
          "execution_count": 194
        }
      ],
      "source": [
        "yet_another_numpy_array[[True,True,True,True,False,False,False,False,False,False]] #boolean array as mask"
      ]
    },
    {
      "cell_type": "code",
      "execution_count": 195,
      "metadata": {
        "id": "Pkj6QkF1eUk9",
        "colab": {
          "base_uri": "https://localhost:8080/"
        },
        "outputId": "b88c2a76-ce55-4fc3-99a0-6941857ca4c2"
      },
      "outputs": [
        {
          "output_type": "execute_result",
          "data": {
            "text/plain": [
              "array([25, 26, 27, 28, 29])"
            ]
          },
          "metadata": {},
          "execution_count": 195
        }
      ],
      "source": [
        "yet_another_numpy_array[yet_another_numpy_array > 24] #boolean array as mask"
      ]
    },
    {
      "cell_type": "code",
      "execution_count": 196,
      "metadata": {
        "id": "LJUVssAneUk9",
        "colab": {
          "base_uri": "https://localhost:8080/"
        },
        "outputId": "f9b405d8-87b3-4d02-e4e2-52922767d806"
      },
      "outputs": [
        {
          "output_type": "execute_result",
          "data": {
            "text/plain": [
              "array([20, 24, 25])"
            ]
          },
          "metadata": {},
          "execution_count": 196
        }
      ],
      "source": [
        "yet_another_numpy_array[[0,4,5]] #fancy indexing"
      ]
    },
    {
      "cell_type": "markdown",
      "metadata": {
        "id": "1UzReWfheUk9"
      },
      "source": [
        "**Q2: How would you select only values between the \"4th from last\" to the \"2nd from last\" entries of this array?**"
      ]
    },
    {
      "cell_type": "code",
      "source": [
        "yet_another_numpy_array"
      ],
      "metadata": {
        "colab": {
          "base_uri": "https://localhost:8080/"
        },
        "id": "EdmLkjLNHZEq",
        "outputId": "c75f9cc9-c4dd-4dc2-86d7-884affe40f75"
      },
      "execution_count": 201,
      "outputs": [
        {
          "output_type": "execute_result",
          "data": {
            "text/plain": [
              "array([20, 21, 22, 23, 24, 25, 26, 27, 28, 29])"
            ]
          },
          "metadata": {},
          "execution_count": 201
        }
      ]
    },
    {
      "cell_type": "code",
      "execution_count": 203,
      "metadata": {
        "id": "ll5s8YtNeUk-",
        "outputId": "25379f2d-dfe8-4e65-c2f6-7f10a3373657",
        "colab": {
          "base_uri": "https://localhost:8080/"
        }
      },
      "outputs": [
        {
          "output_type": "execute_result",
          "data": {
            "text/plain": [
              "array([26, 27])"
            ]
          },
          "metadata": {},
          "execution_count": 203
        }
      ],
      "source": [
        "\n",
        "#Solution to Q2\n",
        "yet_another_numpy_array[-4:-2]\n"
      ]
    },
    {
      "cell_type": "markdown",
      "source": [
        "# **3D-array Indexing** (https://www.programiz.com/python-programming/numpy/array-indexing)"
      ],
      "metadata": {
        "id": "S4zmv8cnCNkN"
      }
    },
    {
      "cell_type": "code",
      "execution_count": 204,
      "metadata": {
        "id": "kslS3niOpj3g",
        "outputId": "96d1d154-aaf9-4939-8ba8-ac7002889be3",
        "colab": {
          "base_uri": "https://localhost:8080/"
        }
      },
      "outputs": [
        {
          "output_type": "stream",
          "name": "stdout",
          "text": [
            "[[['John' 'Ron' 'Sean']\n",
            "  ['Margaret' 'Rachel' 'Jim']\n",
            "  ['Angel' 'Joey' 'Tom']]\n",
            "\n",
            " [['Max' 'Maxine' 'Richard']\n",
            "  ['Barton ' 'Flynn' 'Simon']\n",
            "  ['Bob' 'Leo' 'Kimn']]\n",
            "\n",
            " [['Wayne' 'Sarah' 'Lucy']\n",
            "  ['Lucy' 'Kurtis' 'Yu']\n",
            "  ['Jack' 'Lex' 'Alex']]]\n"
          ]
        }
      ],
      "source": [
        "array1 = np.array([[[\"John\", \"Ron\", \"Sean\"],\n",
        "                  [\"Margaret\", \"Rachel\", \"Jim\"],\n",
        "                  [\"Angel\", \"Joey\", \"Tom\"]],\n",
        "\n",
        "                 [[\"Max\", \"Maxine\", \"Richard\"],\n",
        "                  [\"Barton \", \"Flynn\", \"Simon\"],\n",
        "                  [\"Bob\", \"Leo\", \"Kimn\"]],\n",
        "\n",
        "                 [[\"Wayne\", \"Sarah\", \"Lucy\"],\n",
        "                  [\"Lucy\", \"Kurtis\", \"Yu\"],\n",
        "                  [\"Jack\", \"Lex\", \"Alex\"]]])\n",
        "print(array1)"
      ]
    },
    {
      "cell_type": "code",
      "execution_count": 205,
      "metadata": {
        "id": "dg6AS5X7pj3h",
        "colab": {
          "base_uri": "https://localhost:8080/"
        },
        "outputId": "a1db0865-c620-4d8a-acab-bbdd712e7bfa"
      },
      "outputs": [
        {
          "output_type": "execute_result",
          "data": {
            "text/plain": [
              "(3, 3, 3)"
            ]
          },
          "metadata": {},
          "execution_count": 205
        }
      ],
      "source": [
        "array1.shape"
      ]
    },
    {
      "cell_type": "code",
      "execution_count": 206,
      "metadata": {
        "id": "KsgXwqtmpj3h",
        "colab": {
          "base_uri": "https://localhost:8080/"
        },
        "outputId": "f6a1ca49-8f9f-4d83-cc6c-1e78fabd1ea2"
      },
      "outputs": [
        {
          "output_type": "execute_result",
          "data": {
            "text/plain": [
              "27"
            ]
          },
          "metadata": {},
          "execution_count": 206
        }
      ],
      "source": [
        "array1.size"
      ]
    },
    {
      "cell_type": "markdown",
      "source": [
        "**General Access Syntax:** array1[block_index][row_index][column_index]\n"
      ],
      "metadata": {
        "id": "XobO4KAvLk2x"
      }
    },
    {
      "cell_type": "code",
      "execution_count": 207,
      "metadata": {
        "outputId": "6561e143-676f-4754-ee9d-4fc9262f9921",
        "colab": {
          "base_uri": "https://localhost:8080/"
        },
        "id": "eiMH27Nvd3wT"
      },
      "outputs": [
        {
          "output_type": "stream",
          "name": "stdout",
          "text": [
            "[[['John' 'Ron' 'Sean']\n",
            "  ['Margaret' 'Rachel' 'Jim']\n",
            "  ['Angel' 'Joey' 'Tom']]\n",
            "\n",
            " [['Max' 'Maxine' 'Richard']\n",
            "  ['Barton ' 'Flynn' 'Simon']\n",
            "  ['Bob' 'Leo' 'Kimn']]\n",
            "\n",
            " [['Wayne' 'Sarah' 'Lucy']\n",
            "  ['Lucy' 'Kurtis' 'Yu']\n",
            "  ['Jack' 'Lex' 'Alex']]]\n"
          ]
        }
      ],
      "source": [
        "array1 = np.array([[[\"John\", \"Ron\", \"Sean\"],\n",
        "                  [\"Margaret\", \"Rachel\", \"Jim\"],\n",
        "                  [\"Angel\", \"Joey\", \"Tom\"]],\n",
        "\n",
        "                 [[\"Max\", \"Maxine\", \"Richard\"],\n",
        "                  [\"Barton \", \"Flynn\", \"Simon\"],\n",
        "                  [\"Bob\", \"Leo\", \"Kimn\"]],\n",
        "\n",
        "                 [[\"Wayne\", \"Sarah\", \"Lucy\"],\n",
        "                  [\"Lucy\", \"Kurtis\", \"Yu\"],\n",
        "                  [\"Jack\", \"Lex\", \"Alex\"]]])\n",
        "print(array1)"
      ]
    },
    {
      "cell_type": "code",
      "execution_count": 208,
      "metadata": {
        "id": "-PLI48F_d3wU",
        "colab": {
          "base_uri": "https://localhost:8080/"
        },
        "outputId": "fcdaa3a2-4baa-4f42-8c5a-efcb347d9ded"
      },
      "outputs": [
        {
          "output_type": "execute_result",
          "data": {
            "text/plain": [
              "(3, 3, 3)"
            ]
          },
          "metadata": {},
          "execution_count": 208
        }
      ],
      "source": [
        "array1.shape"
      ]
    },
    {
      "cell_type": "code",
      "execution_count": 209,
      "metadata": {
        "id": "hcmv5I8Wd3wU",
        "colab": {
          "base_uri": "https://localhost:8080/"
        },
        "outputId": "2e6a7cc9-1d6c-4e16-f235-a626ea8ef006"
      },
      "outputs": [
        {
          "output_type": "execute_result",
          "data": {
            "text/plain": [
              "27"
            ]
          },
          "metadata": {},
          "execution_count": 209
        }
      ],
      "source": [
        "array1.size"
      ]
    },
    {
      "cell_type": "markdown",
      "source": [
        "**Accessing Individual element**"
      ],
      "metadata": {
        "id": "Lf_vM0pdeDU-"
      }
    },
    {
      "cell_type": "code",
      "source": [
        "# First element of the first block\n",
        "print(array1[0][0][0])\n",
        "\n",
        "# Middle element of the second row in the second block\n",
        "print(array1[1][1][1])\n",
        "\n",
        "#Last element of the last block\n",
        "print(array1[2][2][2])\n"
      ],
      "metadata": {
        "id": "TQI2IAx8MLef",
        "colab": {
          "base_uri": "https://localhost:8080/"
        },
        "outputId": "8bc73eda-7a1c-4ba8-ac5e-bff68eba0f58"
      },
      "execution_count": 210,
      "outputs": [
        {
          "output_type": "stream",
          "name": "stdout",
          "text": [
            "John\n",
            "Flynn\n",
            "Alex\n"
          ]
        }
      ]
    },
    {
      "cell_type": "markdown",
      "source": [
        "**Accessing Entire Rows**"
      ],
      "metadata": {
        "id": "hZBGE0nzYlN5"
      }
    },
    {
      "cell_type": "code",
      "source": [
        "# Entire first row of the first block\n",
        "print(array1[0][0])\n",
        "\n",
        "# Entire second row of the third block\n",
        "print(array1[2][1])"
      ],
      "metadata": {
        "id": "ii5dGloVYYtS",
        "colab": {
          "base_uri": "https://localhost:8080/"
        },
        "outputId": "4f80cf97-a7c3-48ec-f8c8-33f8ad11181e"
      },
      "execution_count": 211,
      "outputs": [
        {
          "output_type": "stream",
          "name": "stdout",
          "text": [
            "['John' 'Ron' 'Sean']\n",
            "['Lucy' 'Kurtis' 'Yu']\n"
          ]
        }
      ]
    },
    {
      "cell_type": "markdown",
      "source": [
        "**Accessing Entire Blocks**"
      ],
      "metadata": {
        "id": "qwbPRs9WZVV7"
      }
    },
    {
      "cell_type": "code",
      "source": [
        "#Entire third block:\n",
        "print(array1 [2])\n",
        "print(array1[0])\n"
      ],
      "metadata": {
        "id": "J1RG2FBUZczm",
        "colab": {
          "base_uri": "https://localhost:8080/"
        },
        "outputId": "89b34891-58e8-4dda-e382-a05f475d8e35"
      },
      "execution_count": 212,
      "outputs": [
        {
          "output_type": "stream",
          "name": "stdout",
          "text": [
            "[['Wayne' 'Sarah' 'Lucy']\n",
            " ['Lucy' 'Kurtis' 'Yu']\n",
            " ['Jack' 'Lex' 'Alex']]\n",
            "[['John' 'Ron' 'Sean']\n",
            " ['Margaret' 'Rachel' 'Jim']\n",
            " ['Angel' 'Joey' 'Tom']]\n"
          ]
        }
      ]
    },
    {
      "cell_type": "markdown",
      "source": [
        "**Slicing the Array**"
      ],
      "metadata": {
        "id": "iYnqM6E5aUAN"
      }
    },
    {
      "cell_type": "code",
      "source": [
        "#Access the first column of each row from the third block:\n",
        "array1[2, :, 0]"
      ],
      "metadata": {
        "id": "xJ_DJjT0agtN",
        "colab": {
          "base_uri": "https://localhost:8080/"
        },
        "outputId": "1c53cd73-8be3-43c3-aa2b-4e1612618c7e"
      },
      "execution_count": 213,
      "outputs": [
        {
          "output_type": "execute_result",
          "data": {
            "text/plain": [
              "array(['Wayne', 'Lucy', 'Jack'], dtype='<U8')"
            ]
          },
          "metadata": {},
          "execution_count": 213
        }
      ]
    },
    {
      "cell_type": "code",
      "source": [
        "# Access all names from the second column of each row across all blocks:\n",
        "array1[:, :, 1]"
      ],
      "metadata": {
        "id": "ux-XtPLyawzd",
        "colab": {
          "base_uri": "https://localhost:8080/"
        },
        "outputId": "7141723b-433a-4664-c7ed-346df283e40d"
      },
      "execution_count": 214,
      "outputs": [
        {
          "output_type": "execute_result",
          "data": {
            "text/plain": [
              "array([['Ron', 'Rachel', 'Joey'],\n",
              "       ['Maxine', 'Flynn', 'Leo'],\n",
              "       ['Sarah', 'Kurtis', 'Lex']], dtype='<U8')"
            ]
          },
          "metadata": {},
          "execution_count": 214
        }
      ]
    },
    {
      "cell_type": "markdown",
      "source": [
        "**Fancy Indexing:**"
      ],
      "metadata": {
        "id": "crFf8R85c1YM"
      }
    },
    {
      "cell_type": "code",
      "source": [
        "#You can also access specific elements from different locations using a list of indices.\n",
        "array1[[0, 1], [0, 1], [0, 1]]"
      ],
      "metadata": {
        "id": "Lhk-uajtcBrk",
        "colab": {
          "base_uri": "https://localhost:8080/"
        },
        "outputId": "b804da7b-c08f-458b-e810-18b79c437000"
      },
      "execution_count": 215,
      "outputs": [
        {
          "output_type": "execute_result",
          "data": {
            "text/plain": [
              "array(['John', 'Flynn'], dtype='<U8')"
            ]
          },
          "metadata": {},
          "execution_count": 215
        }
      ]
    },
    {
      "cell_type": "markdown",
      "metadata": {
        "id": "5_9YE8XvjTRu"
      },
      "source": [
        "**Q3: How would you select only values of the last row starting from Wayne up to Alez?**"
      ]
    },
    {
      "cell_type": "code",
      "source": [
        "array1"
      ],
      "metadata": {
        "colab": {
          "base_uri": "https://localhost:8080/"
        },
        "id": "0MIAHLCTIB4N",
        "outputId": "dd068152-ca30-47bc-cb94-c04cfa2dedad"
      },
      "execution_count": 218,
      "outputs": [
        {
          "output_type": "execute_result",
          "data": {
            "text/plain": [
              "array([[['John', 'Ron', 'Sean'],\n",
              "        ['Margaret', 'Rachel', 'Jim'],\n",
              "        ['Angel', 'Joey', 'Tom']],\n",
              "\n",
              "       [['Max', 'Maxine', 'Richard'],\n",
              "        ['Barton ', 'Flynn', 'Simon'],\n",
              "        ['Bob', 'Leo', 'Kimn']],\n",
              "\n",
              "       [['Wayne', 'Sarah', 'Lucy'],\n",
              "        ['Lucy', 'Kurtis', 'Yu'],\n",
              "        ['Jack', 'Lex', 'Alex']]], dtype='<U8')"
            ]
          },
          "metadata": {},
          "execution_count": 218
        }
      ]
    },
    {
      "cell_type": "code",
      "execution_count": 224,
      "metadata": {
        "id": "TB_z9J6Cpj3h",
        "outputId": "48b12fb6-2790-4360-bd7e-13b6d064f4e0",
        "colab": {
          "base_uri": "https://localhost:8080/"
        }
      },
      "outputs": [
        {
          "output_type": "stream",
          "name": "stdout",
          "text": [
            "['Jack' 'Lex' 'Alex']\n"
          ]
        }
      ],
      "source": [
        "#Solution to Q3\n",
        "print(array1[2][2])"
      ]
    },
    {
      "cell_type": "markdown",
      "metadata": {
        "id": "7gRixi4fjTRu"
      },
      "source": [
        "**Q4: How would you select Middle column, all rows, but don't flatten; keep matrix shape**"
      ]
    },
    {
      "cell_type": "code",
      "execution_count": 227,
      "metadata": {
        "id": "4XrRKBG-pj3h",
        "outputId": "09c8ed55-b81e-4803-f77f-621ad64621e5",
        "colab": {
          "base_uri": "https://localhost:8080/"
        }
      },
      "outputs": [
        {
          "output_type": "stream",
          "name": "stdout",
          "text": [
            "[[['Ron']\n",
            "  ['Rachel']\n",
            "  ['Joey']]\n",
            "\n",
            " [['Maxine']\n",
            "  ['Flynn']\n",
            "  ['Leo']]\n",
            "\n",
            " [['Sarah']\n",
            "  ['Kurtis']\n",
            "  ['Lex']]]\n"
          ]
        }
      ],
      "source": [
        "#Solution to Q4\n",
        "# When a list is used for choosing the column, the dimension is kept\n",
        "print(array1[:, :, [1]])\n"
      ]
    },
    {
      "cell_type": "markdown",
      "metadata": {
        "id": "MOzmqI1hpj3h"
      },
      "source": [
        "### switch the [row,column]"
      ]
    },
    {
      "cell_type": "code",
      "execution_count": 228,
      "metadata": {
        "id": "j_YmhryweUk-",
        "outputId": "f2498afa-190a-4602-a2ff-c4a03e2a95f0",
        "colab": {
          "base_uri": "https://localhost:8080/"
        }
      },
      "outputs": [
        {
          "output_type": "execute_result",
          "data": {
            "text/plain": [
              "array([[11, 12],\n",
              "       [13, 14]])"
            ]
          },
          "metadata": {},
          "execution_count": 228
        }
      ],
      "source": [
        "a_numpy_2d_array = np.array([[11,12],[13,14]])\n",
        "a_numpy_2d_array"
      ]
    },
    {
      "cell_type": "code",
      "execution_count": 229,
      "metadata": {
        "id": "moLqbKd7eUk-",
        "outputId": "d5362c23-30df-40b2-ce91-f12bcc6214d8",
        "colab": {
          "base_uri": "https://localhost:8080/"
        }
      },
      "outputs": [
        {
          "output_type": "execute_result",
          "data": {
            "text/plain": [
              "array([11, 13])"
            ]
          },
          "metadata": {},
          "execution_count": 229
        }
      ],
      "source": [
        "a_numpy_2d_array[:,0]"
      ]
    },
    {
      "cell_type": "markdown",
      "metadata": {
        "id": "RupzPr5EeUk-"
      },
      "source": [
        "**Q5: Can you switch the [row,column] indices on this array?**"
      ]
    },
    {
      "cell_type": "code",
      "execution_count": 230,
      "metadata": {
        "id": "-yYzb2xzeUk-",
        "outputId": "7f46a62b-cb0e-409e-8b18-c162abca1f26",
        "colab": {
          "base_uri": "https://localhost:8080/"
        }
      },
      "outputs": [
        {
          "output_type": "execute_result",
          "data": {
            "text/plain": [
              "array([[11, 13],\n",
              "       [12, 14]])"
            ]
          },
          "metadata": {},
          "execution_count": 230
        }
      ],
      "source": [
        "#Solution to Q5\n",
        "a_numpy_2d_array.T"
      ]
    },
    {
      "cell_type": "markdown",
      "metadata": {
        "id": "TwbXwPtGeUk_"
      },
      "source": [
        "<h2><center> Reshaping Arrays </center></h2>"
      ]
    },
    {
      "cell_type": "code",
      "execution_count": 231,
      "metadata": {
        "id": "paWKwoDReUk_",
        "outputId": "a7e30b0b-ad68-4e3b-ab3e-5ab22fe62369",
        "colab": {
          "base_uri": "https://localhost:8080/"
        }
      },
      "outputs": [
        {
          "output_type": "stream",
          "name": "stdout",
          "text": [
            "[0 1 2 3 4 5 6 7 8]  Shape:  (9,)\n"
          ]
        }
      ],
      "source": [
        "numpy_digits_array = np.arange(0,9)\n",
        "print(numpy_digits_array, \" Shape: \", numpy_digits_array.shape)"
      ]
    },
    {
      "cell_type": "code",
      "execution_count": 232,
      "metadata": {
        "id": "sW84nux4eUk_",
        "outputId": "4444df1b-e131-4639-e33a-e7cd91b64c1f",
        "colab": {
          "base_uri": "https://localhost:8080/"
        }
      },
      "outputs": [
        {
          "output_type": "stream",
          "name": "stdout",
          "text": [
            "[[0 1 2]\n",
            " [3 4 5]\n",
            " [6 7 8]]  Shape:  (3, 3)\n"
          ]
        }
      ],
      "source": [
        "numpy_digits_array_2D = numpy_digits_array.reshape([3,3])\n",
        "print(numpy_digits_array_2D, \" Shape: \", numpy_digits_array_2D.shape)"
      ]
    },
    {
      "cell_type": "code",
      "execution_count": 233,
      "metadata": {
        "id": "UwYy9avteUk_",
        "outputId": "9a223b62-1f15-4618-a7be-5fa8bca95bd6",
        "colab": {
          "base_uri": "https://localhost:8080/"
        }
      },
      "outputs": [
        {
          "output_type": "stream",
          "name": "stdout",
          "text": [
            "[0 1 2 3 4 5 6 7 8]  Shape:  (9,)\n"
          ]
        }
      ],
      "source": [
        "numpy_digits_array_2D_back_to_1D = numpy_digits_array_2D.reshape(-1)\n",
        "print(numpy_digits_array_2D_back_to_1D, \" Shape: \", numpy_digits_array_2D_back_to_1D.shape)"
      ]
    },
    {
      "cell_type": "markdown",
      "metadata": {
        "id": "-2jtaXVceUk_"
      },
      "source": [
        "<h2><center> Arithmetic </center></h2>"
      ]
    },
    {
      "cell_type": "code",
      "execution_count": 234,
      "metadata": {
        "id": "5IN8YF0geUk_",
        "outputId": "95dfdf8a-1aa6-4fea-85b2-adf7ac40e77e",
        "colab": {
          "base_uri": "https://localhost:8080/"
        }
      },
      "outputs": [
        {
          "output_type": "stream",
          "name": "stdout",
          "text": [
            "a:\n",
            " [[10 11]\n",
            " [12 13]]\n",
            "b:\n",
            " [[ 1 -1]\n",
            " [-1  1]]\n"
          ]
        }
      ],
      "source": [
        "a = np.array([[10,11],[12,13]])\n",
        "b = np.array([[1,-1],[-1,1]])\n",
        "print(\"a:\\n\", a)\n",
        "print(\"b:\\n\", b)"
      ]
    },
    {
      "cell_type": "code",
      "execution_count": 235,
      "metadata": {
        "id": "I3RyuC5_eUk_",
        "colab": {
          "base_uri": "https://localhost:8080/"
        },
        "outputId": "c8be5e08-8646-460d-f995-4e7b4f73c086"
      },
      "outputs": [
        {
          "output_type": "stream",
          "name": "stdout",
          "text": [
            "a*b:\n",
            " [[ 10 -11]\n",
            " [-12  13]]\n",
            "a+b:\n",
            " [[11 10]\n",
            " [11 14]]\n"
          ]
        }
      ],
      "source": [
        "print(\"a*b:\\n\", a*b)\n",
        "print(\"a+b:\\n\", a+b)"
      ]
    },
    {
      "cell_type": "code",
      "execution_count": 236,
      "metadata": {
        "id": "tu1ijaWzeUk_",
        "colab": {
          "base_uri": "https://localhost:8080/"
        },
        "outputId": "262d05e6-4c90-4ff6-e8b2-11495b744032"
      },
      "outputs": [
        {
          "output_type": "stream",
          "name": "stdout",
          "text": [
            "Matrix multiplication of a and b:\n",
            " [[-1  1]\n",
            " [-1  1]]\n"
          ]
        }
      ],
      "source": [
        "print(\"Matrix multiplication of a and b:\\n\",np.matmul(a,b))"
      ]
    },
    {
      "cell_type": "code",
      "execution_count": 237,
      "metadata": {
        "id": "HOrFYltPeUlA",
        "outputId": "8b4f753e-79c5-4642-d745-92f75853f422",
        "colab": {
          "base_uri": "https://localhost:8080/"
        }
      },
      "outputs": [
        {
          "output_type": "execute_result",
          "data": {
            "text/plain": [
              "46"
            ]
          },
          "metadata": {},
          "execution_count": 237
        }
      ],
      "source": [
        "np.sum(a)"
      ]
    },
    {
      "cell_type": "code",
      "execution_count": 238,
      "metadata": {
        "id": "cTX7fnuteUlA",
        "colab": {
          "base_uri": "https://localhost:8080/"
        },
        "outputId": "b12223d6-359e-45fb-89ca-ace182b9fb60"
      },
      "outputs": [
        {
          "output_type": "stream",
          "name": "stdout",
          "text": [
            "[[10 11]\n",
            " [12 13]]\n",
            "Sum all entries:  46\n",
            "Sum along lines:  [21 25]\n",
            "Sum along columns:  [22 24]\n"
          ]
        }
      ],
      "source": [
        "print(a)\n",
        "print(\"Sum all entries: \", np.sum(a))\n",
        "print(\"Sum along lines: \", np.sum(a, axis=1))\n",
        "print(\"Sum along columns: \", np.sum(a, axis=0))\n",
        "\n",
        "#axis: the dimension of the array that will be colapsed"
      ]
    },
    {
      "cell_type": "markdown",
      "metadata": {
        "id": "sgDzQELteUlA"
      },
      "source": [
        "**Q7: Axis are important: Can you get the maximum over columns of these matrices? And the minimum over lines?**"
      ]
    },
    {
      "cell_type": "code",
      "source": [
        "import numpy as np\n",
        "a_numpy_2d_array = np.array([[11,12],[13,14]])\n",
        "a_numpy_2d_array"
      ],
      "metadata": {
        "colab": {
          "base_uri": "https://localhost:8080/"
        },
        "id": "PThwZh0ii44E",
        "outputId": "cce44f39-bc85-4eb1-c672-375055e27a80"
      },
      "execution_count": 146,
      "outputs": [
        {
          "output_type": "execute_result",
          "data": {
            "text/plain": [
              "array([[11, 12],\n",
              "       [13, 14]])"
            ]
          },
          "metadata": {},
          "execution_count": 146
        }
      ]
    },
    {
      "cell_type": "code",
      "execution_count": 239,
      "metadata": {
        "id": "8-Bd0lRveUlA",
        "outputId": "b773338b-5e82-4172-be80-02ba76e7215a",
        "colab": {
          "base_uri": "https://localhost:8080/"
        }
      },
      "outputs": [
        {
          "output_type": "stream",
          "name": "stdout",
          "text": [
            "[13 14]\n",
            "[11 13]\n"
          ]
        }
      ],
      "source": [
        "# Solution to Q7\n",
        "\n",
        "# Getting the maximum over columns (axis=0)\n",
        "max= np.max(a_numpy_2d_array, axis=0)\n",
        "\n",
        "# Getting the minimum over rows (axis=1)\n",
        "min= np.min(a_numpy_2d_array, axis=1)\n",
        "\n",
        "print(max)\n",
        "print(min)"
      ]
    },
    {
      "cell_type": "markdown",
      "metadata": {
        "id": "LORq1swFeUlA"
      },
      "source": [
        "<h1><center> Broadcasting </center></h1>"
      ]
    },
    {
      "cell_type": "code",
      "execution_count": 240,
      "metadata": {
        "id": "j0ZIRhtweUlA",
        "outputId": "1e25a699-7880-44fa-f9a2-d24be5ce3b56",
        "colab": {
          "base_uri": "https://localhost:8080/"
        }
      },
      "outputs": [
        {
          "output_type": "stream",
          "name": "stdout",
          "text": [
            "[2. 4. 6.]    [ 7.  8.  9. 10.]\n"
          ]
        }
      ],
      "source": [
        "a = np.array([2.0, 4.0, 6.0])\n",
        "b = np.array([7.0, 8.0, 9.0, 10.0])\n",
        "print(a,\"  \",b)"
      ]
    },
    {
      "cell_type": "code",
      "execution_count": 241,
      "metadata": {
        "id": "73h46y7beUlA",
        "outputId": "977c01cb-83fb-4fa3-e995-f5f9e3d7bb74",
        "colab": {
          "base_uri": "https://localhost:8080/"
        }
      },
      "outputs": [
        {
          "output_type": "execute_result",
          "data": {
            "text/plain": [
              "array([ 9., 12., 15., 18.])"
            ]
          },
          "metadata": {},
          "execution_count": 241
        }
      ],
      "source": [
        "a = np.array([2.0, 4.0, 6.0, 8.0])\n",
        "a+b\n",
        "\n",
        "# Error? Understand why..."
      ]
    },
    {
      "cell_type": "code",
      "source": [],
      "metadata": {
        "id": "W3lUp4txBVKB"
      },
      "execution_count": null,
      "outputs": []
    }
  ]
}